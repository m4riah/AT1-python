{
  "nbformat": 4,
  "nbformat_minor": 0,
  "metadata": {
    "colab": {
      "provenance": [],
      "toc_visible": true,
      "authorship_tag": "ABX9TyPga9089v0LimbCQblb6xoi",
      "include_colab_link": true
    },
    "kernelspec": {
      "name": "python3",
      "display_name": "Python 3"
    },
    "language_info": {
      "name": "python"
    }
  },
  "cells": [
    {
      "cell_type": "markdown",
      "metadata": {
        "id": "view-in-github",
        "colab_type": "text"
      },
      "source": [
        "<a href=\"https://colab.research.google.com/github/m4riah/AT1-python/blob/main/at1.ipynb\" target=\"_parent\"><img src=\"https://colab.research.google.com/assets/colab-badge.svg\" alt=\"Open In Colab\"/></a>"
      ]
    },
    {
      "cell_type": "markdown",
      "source": [
        "Código que mostra a mensagem \"Olá ETE CÍCERO DIAS!\" na tela:"
      ],
      "metadata": {
        "id": "xRz_fgoo0AUg"
      }
    },
    {
      "cell_type": "code",
      "source": [
        "print(\"Olá ETE CÍCERO DIAS!\")"
      ],
      "metadata": {
        "id": "Qf0T-Qxe0HAQ"
      },
      "execution_count": null,
      "outputs": []
    },
    {
      "cell_type": "markdown",
      "source": [
        "Código que pede um número e mostra a mensagem \"O número informado foi [número]\":\n"
      ],
      "metadata": {
        "id": "mua4sCO50M2P"
      }
    },
    {
      "cell_type": "code",
      "source": [
        "numero = input(\"Digite um número: \")\n",
        "print(\"O número informado foi\", numero)"
      ],
      "metadata": {
        "id": "WFV0SIeE0RCI"
      },
      "execution_count": null,
      "outputs": []
    },
    {
      "cell_type": "markdown",
      "source": [
        "Código que pede dois números e imprime a soma:\n"
      ],
      "metadata": {
        "id": "uQScWTir0dUo"
      }
    },
    {
      "cell_type": "code",
      "source": [
        "numero1 = float(input(\"Digite o primeiro número: \"))\n",
        "numero2 = float(input(\"Digite o segundo número: \"))\n",
        "soma = numero1 + numero2\n",
        "print(\"A soma é\", soma)"
      ],
      "metadata": {
        "id": "XtS415YD0eRn"
      },
      "execution_count": null,
      "outputs": []
    },
    {
      "cell_type": "markdown",
      "source": [
        "Código que pede as 4 notas bimestrais e mostra a média final:\n"
      ],
      "metadata": {
        "id": "f6thR0-z0o93"
      }
    },
    {
      "cell_type": "code",
      "source": [
        "nota1 = float(input(\"Digite a primeira nota: \"))\n",
        "nota2 = float(input(\"Digite a segunda nota: \"))\n",
        "nota3 = float(input(\"Digite a terceira nota: \"))\n",
        "nota4 = float(input(\"Digite a quarta nota: \"))\n",
        "media = (nota1 + nota2 + nota3 + nota4) / 4\n",
        "print(\"A média final é\", media)"
      ],
      "metadata": {
        "id": "_IojtwvN0rMv"
      },
      "execution_count": null,
      "outputs": []
    },
    {
      "cell_type": "markdown",
      "source": [
        "Código que converte metros para centímetros:\n"
      ],
      "metadata": {
        "id": "NqYqagbL0wVf"
      }
    },
    {
      "cell_type": "code",
      "source": [
        "metros = float(input(\"Digite o valor em metros: \"))\n",
        "centimetros = metros * 100\n",
        "print(\"O valor em centímetros é\", centimetros)\n"
      ],
      "metadata": {
        "id": "zsqTMCUc0zHI"
      },
      "execution_count": null,
      "outputs": []
    },
    {
      "cell_type": "markdown",
      "source": [
        "Código que pede o raio de um círculo, calcula e mostra sua área:\n"
      ],
      "metadata": {
        "id": "bP9B22rh01i3"
      }
    },
    {
      "cell_type": "code",
      "source": [
        "import math\n",
        "\n",
        "raio = float(input(\"Digite o raio do círculo: \"))\n",
        "area = math.pi * raio ** 2\n",
        "print(\"A área do círculo é\", area)\n"
      ],
      "metadata": {
        "id": "xX2gDVzv03-A"
      },
      "execution_count": null,
      "outputs": []
    },
    {
      "cell_type": "markdown",
      "source": [
        "Código que calcula a área de um quadrado e mostra o dobro da área:\n"
      ],
      "metadata": {
        "id": "Jd52T_6806Sv"
      }
    },
    {
      "cell_type": "code",
      "source": [
        "lado = float(input(\"Digite o valor do lado do quadrado: \"))\n",
        "area = lado ** 2\n",
        "dobro_area = 2 * area\n",
        "print(\"A área do quadrado é\", area)\n",
        "print(\"O dobro da área é\", dobro_area)\n"
      ],
      "metadata": {
        "id": "-5l6-EHF08of"
      },
      "execution_count": null,
      "outputs": []
    },
    {
      "cell_type": "markdown",
      "source": [
        "Código que pergunta o valor que você ganha por hora e o número de horas trabalhadas no mês, calcula e mostra o salário total:\n"
      ],
      "metadata": {
        "id": "DKoI1vdY0-VX"
      }
    },
    {
      "cell_type": "code",
      "source": [
        "valor_hora = float(input(\"Digite o valor que você ganha por hora: \"))\n",
        "horas_trabalhadas = float(input(\"Digite o número de horas trabalhadas no mês: \"))\n",
        "salario_total = valor_hora * horas_trabalhadas\n",
        "print(\"O total do seu salário no mês é\", salario_total)\n"
      ],
      "metadata": {
        "id": "0Zm-0x-V1BK3"
      },
      "execution_count": null,
      "outputs": []
    },
    {
      "cell_type": "markdown",
      "source": [
        "Código que pede um valor e mostra se é positivo ou negativo:\n"
      ],
      "metadata": {
        "id": "9HF0vx2U1CJ3"
      }
    },
    {
      "cell_type": "code",
      "source": [
        "valor = float(input(\"Digite um valor: \"))\n",
        "if valor > 0:\n",
        "    print(\"O valor é positivo\")\n",
        "elif valor < 0:\n",
        "    print(\"O valor é negativo\")\n",
        "else:\n",
        "    print(\"O valor é zero\")\n"
      ],
      "metadata": {
        "id": "D5fsM2vw1O9X"
      },
      "execution_count": null,
      "outputs": []
    },
    {
      "cell_type": "markdown",
      "source": [
        "Código que verifica se uma letra digitada é \"F\" ou \"M\" e mostra o sexo correspondente:\n"
      ],
      "metadata": {
        "id": "aF_BZgQD1P8_"
      }
    },
    {
      "cell_type": "code",
      "source": [
        "letra = input(\"Digite uma letra: \")\n",
        "if letra == \"F\" or letra == \"f\":\n",
        "    print(\"F - Feminino\")\n",
        "elif letra == \"M\" or letra == \"m\":\n",
        "    print(\"M - Masculino\")\n",
        "else:\n",
        "    print(\"Sexo Inválido\")\n"
      ],
      "metadata": {
        "id": "OuA5iSTr1WDP"
      },
      "execution_count": null,
      "outputs": []
    }
  ]
}